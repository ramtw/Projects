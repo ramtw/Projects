{
 "cells": [
  {
   "cell_type": "code",
   "execution_count": 1,
   "metadata": {},
   "outputs": [],
   "source": [
    "import cv2,time"
   ]
  },
  {
   "cell_type": "code",
   "execution_count": 2,
   "metadata": {},
   "outputs": [
    {
     "name": "stdout",
     "output_type": "stream",
     "text": [
      "True\n",
      "[[[19 21 21]\n",
      "  [18 20 20]\n",
      "  [18 20 20]\n",
      "  ...\n",
      "  [22 29 28]\n",
      "  [22 29 28]\n",
      "  [22 29 28]]\n",
      "\n",
      " [[23 20 23]\n",
      "  [22 19 21]\n",
      "  [18 20 20]\n",
      "  ...\n",
      "  [22 29 28]\n",
      "  [22 29 28]\n",
      "  [22 29 28]]\n",
      "\n",
      " [[23 20 23]\n",
      "  [23 20 23]\n",
      "  [18 20 20]\n",
      "  ...\n",
      "  [23 28 27]\n",
      "  [23 28 27]\n",
      "  [23 28 27]]\n",
      "\n",
      " ...\n",
      "\n",
      " [[14 10 13]\n",
      "  [14 10 13]\n",
      "  [10 12 12]\n",
      "  ...\n",
      "  [12 14 14]\n",
      "  [12 14 14]\n",
      "  [11 13 13]]\n",
      "\n",
      " [[14 10 13]\n",
      "  [14 10 13]\n",
      "  [14 10 13]\n",
      "  ...\n",
      "  [11 13 13]\n",
      "  [12 14 14]\n",
      "  [11 13 13]]\n",
      "\n",
      " [[14 10 13]\n",
      "  [14 10 13]\n",
      "  [14 10 13]\n",
      "  ...\n",
      "  [12 14 14]\n",
      "  [11 13 13]\n",
      "  [10 12 12]]]\n"
     ]
    }
   ],
   "source": [
    "video=cv2.VideoCapture(0)\n",
    "check,frame=video.read()\n",
    "print(check)\n",
    "print(frame)\n",
    "time.sleep(1)\n",
    "video.release()"
   ]
  },
  {
   "cell_type": "code",
   "execution_count": 2,
   "metadata": {},
   "outputs": [
    {
     "data": {
      "text/plain": [
       "<function destroyAllWindows>"
      ]
     },
     "execution_count": 2,
     "metadata": {},
     "output_type": "execute_result"
    }
   ],
   "source": [
    "import cv2,time\n",
    "video=cv2.VideoCapture(0)\n",
    "check,frame=video.read()\n",
    "time.sleep(3)\n",
    "cv2.imshow('Capturing',frame)\n",
    "cv2.waitKey(0)\n",
    "video.release()\n",
    "cv2.destroyAllWindows()"
   ]
  },
  {
   "cell_type": "code",
   "execution_count": 3,
   "metadata": {},
   "outputs": [
    {
     "name": "stdout",
     "output_type": "stream",
     "text": [
      "66\n"
     ]
    }
   ],
   "source": [
    "import cv2,time\n",
    "video=cv2.VideoCapture(0)\n",
    "a=1\n",
    "while True:\n",
    "    a=a+1\n",
    "    check,frame=video.read()\n",
    "    gray_img=cv2.cvtColor(frame,cv2.COLOR_BGR2GRAY)\n",
    "    cv2.imshow('cpturing',gray_img)\n",
    "    key=cv2.waitKey(1)\n",
    "    if(key==ord('q')):\n",
    "        break\n",
    "video.release()\n",
    "cv2.destroyAllWindows()\n",
    "print(a)"
   ]
  },
  {
   "cell_type": "code",
   "execution_count": null,
   "metadata": {},
   "outputs": [],
   "source": []
  }
 ],
 "metadata": {
  "kernelspec": {
   "display_name": "Python [conda env:root] *",
   "language": "python",
   "name": "conda-root-py"
  },
  "language_info": {
   "codemirror_mode": {
    "name": "ipython",
    "version": 3
   },
   "file_extension": ".py",
   "mimetype": "text/x-python",
   "name": "python",
   "nbconvert_exporter": "python",
   "pygments_lexer": "ipython3",
   "version": "3.7.3"
  }
 },
 "nbformat": 4,
 "nbformat_minor": 4
}
